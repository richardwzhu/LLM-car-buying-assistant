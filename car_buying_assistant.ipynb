{
 "cells": [
  {
   "cell_type": "markdown",
   "metadata": {
    "id": "jkqG827oArNy"
   },
   "source": [
    "# LLM Powered Car-Buying Assistant"
   ]
  },
  {
   "cell_type": "markdown",
   "metadata": {
    "id": "VipTNpUSArN2"
   },
   "source": [
    "With over 40 automotive brands sold in the US, the car market is a dynamic landscape. Individuals can make informed purchasing decisions by parsing through reviews on the internet, but the process is time-consuming.\n",
    "\n",
    "This LLM application provides users an immediate analysis of the current best cars at a user specified price point."
   ]
  },
  {
   "cell_type": "code",
   "execution_count": 3,
   "metadata": {
    "id": "-JnmGsb_WBbY"
   },
   "outputs": [],
   "source": [
    "import os\n",
    "import openai\n",
    "\n",
    "from metaphor_python import Metaphor\n",
    "\n",
    "openai.api_key = os.getenv(\"OPENAI_API_KEY\")\n",
    "metaphor = Metaphor(os.getenv(\"METAPHOR_API_KEY\"))"
   ]
  },
  {
   "cell_type": "markdown",
   "metadata": {
    "id": "r_DzCk_zGBi3"
   },
   "source": [
    "# Approach without Metaphor\n",
    "\n",
    "Let's assume our user wants to purchase a new EV with $50k.\n",
    "\n",
    "The results here are somewhat useful, but the OpenAI model is unable to access real-time information on the latest car models."
   ]
  },
  {
   "cell_type": "code",
   "execution_count": 8,
   "metadata": {
    "colab": {
     "base_uri": "https://localhost:8080/"
    },
    "id": "NLhGiq6HGN1I",
    "outputId": "e54a64a5-d0f8-447b-c917-5461c1c65f6f"
   },
   "outputs": [
    {
     "name": "stdout",
     "output_type": "stream",
     "text": [
      "As an AI language model, I don't have real-time information on specific car models from 2023. However, I can provide you with some electric vehicles that were popular in 2022 and may fall within the $50,000 price range. It's important to note that prices can vary depending on specifications, location, and available incentives. Here are a few options:\n",
      "\n",
      "1. Tesla Model 3: The base model starts at around $40,000, offering good range and performance.\n",
      "2. Chevrolet Bolt EV: A compact electric car with a starting price around $36,000, providing decent range and features.\n",
      "3. Nissan Leaf Plus: The Leaf Plus offers an extended range and starts at approximately $40,000.\n",
      "4. Hyundai Kona Electric: This affordable electric SUV starts around $40,000 and offers competitive range.\n",
      "5. Ford Mustang Mach-E: Ford's all-electric SUV offers various trims and starts around $43,000 before incentives.\n",
      "\n",
      "Keep in mind that availability and pricing can change significantly from year to year, so these suggestions may not reflect the market in 2023. It's advisable to check with local dealerships or automotive websites for the latest information on electric car offerings within your price range.\n"
     ]
    }
   ],
   "source": [
    "USER_QUESTION = \"What are the best electric cars from 2023 that are around $50k?\"\n",
    "\n",
    "SYSTEM_MESSAGE_SEARCH = \"You are a helpful assistant.\"\n",
    "\n",
    "completion = openai.ChatCompletion.create(\n",
    "    model=\"gpt-3.5-turbo\",\n",
    "    messages=[\n",
    "        {\"role\": \"system\", \"content\": SYSTEM_MESSAGE_SEARCH},\n",
    "        {\"role\": \"user\", \"content\": USER_QUESTION},\n",
    "    ],\n",
    ")\n",
    "\n",
    "print(completion.choices[0].message.content)"
   ]
  },
  {
   "cell_type": "markdown",
   "metadata": {
    "id": "B8xkitAeK245"
   },
   "source": [
    "# Approach with Metaphor\n",
    "\n",
    "We can use Metaphor's neural search engine to better address the user's question."
   ]
  },
  {
   "cell_type": "markdown",
   "metadata": {
    "id": "R2rnY55QArN4"
   },
   "source": [
    "## Step 1: Generate search queries\n",
    "\n",
    "Using OpenAI's API, we can generate a search query for the user's question."
   ]
  },
  {
   "cell_type": "code",
   "execution_count": 5,
   "metadata": {
    "colab": {
     "base_uri": "https://localhost:8080/"
    },
    "id": "qrDbCTn5gWb-",
    "outputId": "110b6b1f-2739-4018-b40a-0009139901bb"
   },
   "outputs": [
    {
     "name": "stdout",
     "output_type": "stream",
     "text": [
      "\"Top-rated electric cars 2023 under $50k\"\n"
     ]
    }
   ],
   "source": [
    "SYSTEM_MESSAGE_SEARCH = \"You are a helpful assistant that generates search queries based on user questions. Only generate one search query.\"\n",
    "\n",
    "search_completion = openai.ChatCompletion.create(\n",
    "    model=\"gpt-3.5-turbo\",\n",
    "    messages=[\n",
    "        {\"role\": \"system\", \"content\": SYSTEM_MESSAGE_SEARCH},\n",
    "        {\"role\": \"user\", \"content\": USER_QUESTION},\n",
    "    ],\n",
    ")\n",
    "\n",
    "search_query = search_completion.choices[0].message.content\n",
    "\n",
    "print(search_query)"
   ]
  },
  {
   "cell_type": "markdown",
   "metadata": {
    "id": "45tMudNjArN5"
   },
   "source": [
    "## Step 2: Neural search using query\n",
    "\n",
    "We can use Metaphor's neural search engine to generate relevant results for our search query. To filter the large volume of websites, we specify a set of highly trusted and active car review domains.\n",
    "\n",
    "Note: The number of results is restricted to 4 to fit the token limitations of the OpenAI model in Step 3. Users with access to higher OpenAI models may increase this limit to produce more robust results."
   ]
  },
  {
   "cell_type": "code",
   "execution_count": 6,
   "metadata": {
    "id": "xV74jLmCi78M"
   },
   "outputs": [],
   "source": [
    "valid_domains = [\"caranddriver.com\", \"motortrend.com\", \"edmunds.com\", \"consumerreports.com\", \"kbb.com\", \"jdpower.com\"]\n",
    "\n",
    "search_response = metaphor.search(\n",
    "    search_query,\n",
    "    num_results=4,\n",
    "    include_domains=valid_domains,\n",
    "    start_published_date=\"2022-01-01\",\n",
    "    use_autoprompt=True,\n",
    ")\n",
    "\n",
    "result_content = search_response.get_contents().contents"
   ]
  },
  {
   "cell_type": "markdown",
   "metadata": {
    "id": "4ECyXtR3ArN6"
   },
   "source": [
    "## Step 3: Summarize search results\n",
    "\n",
    "Leveraging Metaphor's content retrieval API, we can aggregate search results for our query and then use OpenAI's LLM to summarize the results. Compared to the initial results without Metaphor, our program is able to suggest new cars from 2023 and provide exact price points."
   ]
  },
  {
   "cell_type": "code",
   "execution_count": 7,
   "metadata": {
    "colab": {
     "base_uri": "https://localhost:8080/"
    },
    "id": "j7Q3cxV8kTOm",
    "outputId": "77177bb3-a4ae-45d9-e16b-e7c19a0b54cd"
   },
   "outputs": [
    {
     "name": "stdout",
     "output_type": "stream",
     "text": [
      "Based on your query for \"Top-rated electric cars 2023 under $50k,\" here is a list of new cars that fit your criteria:\n",
      "\n",
      "1. 2023 Mini Cooper Electric: This go-kart-like EV has a starting price of just over $30,000 and offers a range of 110 miles. It comes with lots of standard features and provides a fun driving experience.\n",
      "\n",
      "2. 2023 Nissan Ariya: Nissan's new electric SUV offers up to 304 miles of driving range and has a starting price of $44,485. It features a sporty design, advanced driver-assistance features, and infotainment technology.\n",
      "\n",
      "3. 2024 Chevrolet Equinox EV: This compact SUV is expected to have a starting price of around $30,000 and a range of up to 300 miles. It features a sleek design, a spacious interior, and comes with advanced technology options.\n",
      "\n",
      "4. 2023 Kia Niro EV: The redesigned Niro EV offers a range of up to 253 miles and has a starting price that fits within your budget. It comes with a distinctive design, recycled materials in the interior, and a 10.3-inch infotainment display.\n",
      "\n",
      "These are just a few options to consider. It's always a good idea to visit local dealerships and take test drives to see which car suits your needs and preferences best.\n"
     ]
    }
   ],
   "source": [
    "SYSTEM_MESSAGE_SUMMARIZE = \"You are a helpful car-buying assistant. Use the user's input to suggest a list of new cars.\"\n",
    "\n",
    "result_query = f\"Query: {search_query}\\n\"\n",
    "for j, extracted_result in enumerate([result.extract for result in result_content]):\n",
    "    result_query += f\"Article {j}: {extracted_result}\\n\"\n",
    "\n",
    "summarization_completion = openai.ChatCompletion.create(\n",
    "    model=\"gpt-3.5-turbo\",\n",
    "    messages=[\n",
    "        {\"role\": \"system\", \"content\": SYSTEM_MESSAGE_SUMMARIZE},\n",
    "        {\"role\": \"user\", \"content\": result_query},\n",
    "    ],\n",
    ")\n",
    "\n",
    "summary = summarization_completion.choices[0].message.content\n",
    "\n",
    "print(summary)"
   ]
  }
 ],
 "metadata": {
  "colab": {
   "provenance": []
  },
  "kernelspec": {
   "display_name": "Python 3 (ipykernel)",
   "language": "python",
   "name": "python3"
  },
  "language_info": {
   "codemirror_mode": {
    "name": "ipython",
    "version": 3
   },
   "file_extension": ".py",
   "mimetype": "text/x-python",
   "name": "python",
   "nbconvert_exporter": "python",
   "pygments_lexer": "ipython3",
   "version": "3.9.13"
  }
 },
 "nbformat": 4,
 "nbformat_minor": 4
}
